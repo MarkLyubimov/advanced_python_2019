{
 "cells": [
  {
   "cell_type": "markdown",
   "metadata": {},
   "source": [
    "### Сторонние библиотеки использовать нельзя"
   ]
  },
  {
   "cell_type": "markdown",
   "metadata": {},
   "source": [
    "### Задача 0 [Библиотека] (0.15 балла)  \n",
    "\n",
    "**Условие:** \n",
    "\n",
    "\n",
    "В библиотеке хранятся книги и журналы. У каждой сущности есть общие характеристики, такие как: название, автор, жанр, число страниц, формат страниц, индекс редкости (от 1 до 10) и текст. Также у разных сущностей могут быть свои атрибуты. Хочется все редкие издания (индекс 9 или 10) дополнительно сохранять в некое хранилище (пусть json-файл), а также хочется понимать какую площадь занимает издание, если разложить все его страницы на полу.     \n",
    "\n",
    "\n",
    "**Комментарий:**\n",
    "\n",
    "Это задача с семинара на организацию иерархии классов. Идея в том, что нужно разделять сущности в зависимости от их применения. Например, есть книга как некий абстрактный объект, а есть библиотечная книга, у которой есть свои особенности. Также для сохранения книг в json нужно использвать классы-примеси.\n",
    "\n",
    "\n",
    "Иерархия классов:"
   ]
  },
  {
   "cell_type": "code",
   "execution_count": 74,
   "metadata": {},
   "outputs": [],
   "source": [
    "PAGES_FORMAT = {\n",
    "    'A1': (2048, 1024),\n",
    "    'A2': (1024, 512),\n",
    "    'A3': (512, 256),\n",
    "    'A4': (297, 210),\n",
    "}\n",
    "\n",
    "\n",
    "class ReadableEntity:\n",
    "    pass\n",
    "\n",
    "\n",
    "class Journal(ReadableEntity):\n",
    "    pass\n",
    "\n",
    "\n",
    "class Book(ReadableEntity):\n",
    "    pass\n",
    "\n",
    "\n",
    "class Exporter:\n",
    "    \n",
    "    def export_to_txt(self, file_path):\n",
    "        with open(file_path, 'w') as f:\n",
    "            for key in self.__dict__:\n",
    "                f.write(\"{}: {}\".format(key, self.__dict__[key]))\n",
    "     \n",
    "    \n",
    "class LibraryJournal(Journal, Exporter):\n",
    "    pass\n",
    "\n",
    "\n",
    "class LibraryBook(Book, Exporter):\n",
    "    pass"
   ]
  },
  {
   "cell_type": "markdown",
   "metadata": {},
   "source": [
    "### Задача 1 [Размер объектов] (0 - 0.15 балла)  \n",
    "\n",
    "**Условие:** \n",
    "\n",
    "Написать функцию получения реального объема занимаемой объектом памяти объектом. \n",
    "\n",
    "\n",
    "1) Для int, str, list, tuple, dict **(0.05 балла)**\n",
    "\n",
    "2) Для всех типов **(+0.1 балла)**\n",
    "\n",
    "\n",
    "**Комментарий:**\n",
    "\n",
    "На занятиях не раз говорилось, что `sys.getsizeof` умеет находить размер простых объектов, но если речь идет об объектах, вроде list, то функция вернет не совсем то, что может ожидать разработчик, потому что список хранит указатели на объекты. \n",
    "\n",
    "*Пример:*\n",
    "```\n",
    "sys.getsizeof([]) == 64\n",
    "sys.getsizeof(['aaaaaaa']) == 72\n",
    "```\n",
    "Но\n",
    "```\n",
    "sys.getsizeof('aaaaaaa') == 56\n",
    "```\n"
   ]
  },
  {
   "cell_type": "markdown",
   "metadata": {},
   "source": [
    "### Задача 2 [Многочлены] (0.64 балла)\n",
    "\n",
    "**Условие:**\n",
    "\n",
    "Реализовать класс многочлена. Определить операции:\n",
    "\n",
    "1) *сложения* - **(0.02 балла)**\n",
    "\n",
    "2) *вычитания* - **(0.02 балла)**\n",
    "\n",
    "3) *умножения* - **(0.04 балла)**\n",
    "\n",
    "3a) *быстрого умножения* (алгоритм Карацубы или быстрое преобразование Фурье) - **(+0.25 балла)**\n",
    "\n",
    "4) *деления* - **(0.05 балла)**\n",
    "\n",
    "5) *возведения в степень* - **(0.02 балла)** | *возведения в степень* через быстрое возведение в степень за log - **(0.04 балла)**\n",
    "\n",
    "6) *представления многочлена в человеческом виде* - **(0.02 балла)**\n",
    "\n",
    "7) *дифференцирования* - **(0.05 балла)**\n",
    "\n",
    "8) *интегрирования* - **(0.05 балла)**\n",
    "\n",
    "9) Вызова многочлена как функции (вычисление значения в точке) - **(0.03 балла)**\n",
    "\n",
    "**Комментарии:**\n",
    "\n",
    "Для комплексных коэффициентов **(0.01 балла)** к каждому пункту.\n",
    "\n",
    "Операции с числами также должны работать."
   ]
  },
  {
   "cell_type": "code",
   "execution_count": 364,
   "metadata": {},
   "outputs": [],
   "source": [
    "import numpy as np\n",
    "import matplotlib.pyplot as plt\n",
    "\n",
    "class Polynomial:\n",
    "    \n",
    "    def __init__(self, *coefficients):\n",
    "\n",
    "        self.coefficients = list(coefficients)\n",
    "        self.degree = len(self.coefficients) - 1\n",
    "    \n",
    "    # 1) сложения - (0.02 балла)\n",
    "    def __add__(self, other):\n",
    "        \n",
    "        p1 = self.coefficients[::-1]\n",
    "        p2 = other.coefficients[::-1]\n",
    "        \n",
    "        if len(p1) < len(p2):\n",
    "            p1 += [0]*(len(p2) - len(p1))\n",
    "        else:\n",
    "            p2 += [0]*(len(p1) - len(p2))\n",
    "        \n",
    "        output = [sum(t) for t in zip(p1, p2)]\n",
    "        \n",
    "        return Polynomial(*output)\n",
    "    \n",
    "    # 2) вычитания - (0.02 балла)\n",
    "    def __sub__(self, other):\n",
    "        \n",
    "        p1 = self.coefficients[::-1]\n",
    "        p2 = other.coefficients[::-1]\n",
    "        \n",
    "        if len(p1) < len(p2):\n",
    "            p1 += [0]*(len(p2) - len(p1))\n",
    "        else:\n",
    "            p2 += [0]*(len(p1) - len(p2))\n",
    "        \n",
    "        output = [t1 - t2 for t1, t2 in zip(p1, p2)]\n",
    "        \n",
    "        return Polynomial(*output)\n",
    "       \n",
    "    # 3) *умножения* - **(0.04 балла)**\n",
    "\n",
    "    # 3a) *быстрого умножения* (алгоритм Карацубы или быстрое преобразование Фурье) - **(+0.25 балла)**\n",
    "\n",
    "    # 4) *деления* - **(0.05 балла)**\n",
    "\n",
    "    # 5) *возведения в степень* - **(0.02 балла)** | *возведения в степень* через быстрое возведение в степень за log - **(0.04 балла)**\n",
    "\n",
    "    # 6) представления многочлена в человеческом виде - (0.02 балла)\n",
    "    def __repr__(self):\n",
    "        \n",
    "        output = \"\"\n",
    "        degree = len(self.coefficients) - 1\n",
    "        \n",
    "        for i, coef in enumerate(self.coefficients):\n",
    "            if self.degree - i > 1:\n",
    "                x_degree = \"x^\" + str(self.degree - i)  \n",
    "            elif self.degree - i == 1:\n",
    "                x_degree = \"x\"\n",
    "            else:\n",
    "                x_degree = \"\"\n",
    "            \n",
    "            if coef < 0:\n",
    "                output += \" - \" +  str(abs(coef)) + x_degree\n",
    "            elif coef > 0 and i == 0:\n",
    "                output += str(abs(coef)) + x_degree\n",
    "            elif coef > 0 and i > 0:\n",
    "                output += \" + \" +  str(abs(coef)) + x_degree\n",
    "            else:\n",
    "                continue\n",
    "            \n",
    "        return output\n",
    "    \n",
    "    # 7) дифференцирования - (0.05 балла)\n",
    "    def derivative(self):\n",
    "        \n",
    "        new_coefs = []\n",
    "        degree = len(self.coefficients) - 1\n",
    "        \n",
    "        for i in range(len(self.coefficients)-1):\n",
    "            \n",
    "            new_coefs.append(self.coefficients[i] * degree)\n",
    "            degree -= 1\n",
    "            \n",
    "        return Polynomial(*new_coefs)\n",
    "    \n",
    "    # 8) *интегрирования* - **(0.05 балла)**\n",
    "    \n",
    "    def intergal(self):\n",
    "        \n",
    "        x = np.linspace(a, b, N)\n",
    "        fx = f(x)\n",
    "        area = np.sum(fx)*(b-a)/N\n",
    "        return area\n",
    "    \n",
    "    def integrand(x):\n",
    "        \n",
    "        return sum(self.__call__(x[i])*(x[i]-x[i-1]) for i in range(1,len(x)))\n",
    "    \n",
    "    def simpson(a, b, n, f):\n",
    "        sum = 0\n",
    "        inc = (b - a) / n\n",
    "        for k in range(n + 1):\n",
    "            x = a + (k * inc)\n",
    "            summand = f(x)\n",
    "            if (k != 0) and (k != n):\n",
    "                summand *= (2 + (2 * (k % 2)))\n",
    "            sum += summand\n",
    "        return ((b - a) / (3 * n)) * sum\n",
    "\n",
    "    # 9) Вызова многочлена как функции (вычисление значения в точке) - (0.03 балла)\n",
    "    def __call__(self, x):  \n",
    "        \n",
    "        output = 0\n",
    "        for d, coef in enumerate(self.coefficients):\n",
    "            output += coef*x**d\n",
    "        return output "
   ]
  },
  {
   "cell_type": "code",
   "execution_count": 358,
   "metadata": {},
   "outputs": [],
   "source": [
    "a = [1,2,2,2]"
   ]
  },
  {
   "cell_type": "code",
   "execution_count": 359,
   "metadata": {},
   "outputs": [
    {
     "data": {
      "text/plain": [
       "[1, 2, 2, 2]"
      ]
     },
     "execution_count": 359,
     "metadata": {},
     "output_type": "execute_result"
    }
   ],
   "source": [
    "a"
   ]
  },
  {
   "cell_type": "code",
   "execution_count": 360,
   "metadata": {},
   "outputs": [],
   "source": [
    "p1 = Polynomial(-0.8, 2.3, 0, 1, 0.2)"
   ]
  },
  {
   "cell_type": "code",
   "execution_count": 361,
   "metadata": {},
   "outputs": [],
   "source": [
    "p2 = Polynomial(1, 1, 1, 1, 1.2)"
   ]
  },
  {
   "cell_type": "code",
   "execution_count": 362,
   "metadata": {},
   "outputs": [
    {
     "data": {
      "text/plain": [
       "1x^4 + 1x^3 + 1x^2 + 1x + 1.2"
      ]
     },
     "execution_count": 362,
     "metadata": {},
     "output_type": "execute_result"
    }
   ],
   "source": [
    "p2"
   ]
  },
  {
   "cell_type": "code",
   "execution_count": 363,
   "metadata": {},
   "outputs": [
    {
     "data": {
      "text/plain": [
       "4x^3 + 3x^2 + 2x + 1"
      ]
     },
     "execution_count": 363,
     "metadata": {},
     "output_type": "execute_result"
    }
   ],
   "source": [
    "p2.derivative()"
   ]
  },
  {
   "cell_type": "code",
   "execution_count": 354,
   "metadata": {},
   "outputs": [
    {
     "data": {
      "text/plain": [
       "31"
      ]
     },
     "execution_count": 354,
     "metadata": {},
     "output_type": "execute_result"
    }
   ],
   "source": [
    "p = Polynomial(1, 1, 1, 1, 1)\n",
    "p.__call__(2)"
   ]
  },
  {
   "cell_type": "code",
   "execution_count": 355,
   "metadata": {},
   "outputs": [
    {
     "data": {
      "text/plain": [
       " + 1x^4 + 1x^3 + 1x^2 + 1x + 1"
      ]
     },
     "execution_count": 355,
     "metadata": {},
     "output_type": "execute_result"
    }
   ],
   "source": [
    "p"
   ]
  },
  {
   "cell_type": "code",
   "execution_count": 356,
   "metadata": {},
   "outputs": [
    {
     "data": {
      "text/plain": [
       "31"
      ]
     },
     "execution_count": 356,
     "metadata": {},
     "output_type": "execute_result"
    }
   ],
   "source": [
    "16+8+4+2+1"
   ]
  },
  {
   "cell_type": "code",
   "execution_count": null,
   "metadata": {},
   "outputs": [],
   "source": []
  },
  {
   "cell_type": "markdown",
   "metadata": {},
   "source": [
    "### Задача 3 [Аналог range] (0.05 балла)\n",
    "\n",
    "**Условие:**\n",
    "\n",
    "Реализуйте итератор с поведением, аналогичным range."
   ]
  },
  {
   "cell_type": "code",
   "execution_count": 291,
   "metadata": {},
   "outputs": [],
   "source": [
    "def my_range(*args):\n",
    "    \n",
    "    if len(args) == 0:\n",
    "        start, end, step = 0, 0, 1\n",
    "    elif len(args) == 1:\n",
    "        start, end, step = 0, args[0], 1\n",
    "    elif len(args) == 2:\n",
    "        start, end, step = args[0], args[1], 1\n",
    "    elif len(args) == 3:\n",
    "        start, end, step = args[0], args[1], args[2]\n",
    "    else:\n",
    "        raise TypeError(f\"range expected at most {3} arguments, got {len(args)}\")\n",
    "        \n",
    "    i = start\n",
    "    \n",
    "    while i < end - 1:\n",
    "        i += step\n",
    "        yield i"
   ]
  },
  {
   "cell_type": "code",
   "execution_count": 293,
   "metadata": {},
   "outputs": [],
   "source": [
    "for i in my_range():\n",
    "    print(i)"
   ]
  },
  {
   "cell_type": "code",
   "execution_count": 294,
   "metadata": {},
   "outputs": [
    {
     "name": "stdout",
     "output_type": "stream",
     "text": [
      "1\n",
      "2\n",
      "3\n",
      "4\n",
      "5\n",
      "6\n",
      "7\n",
      "8\n",
      "9\n"
     ]
    }
   ],
   "source": [
    "for i in my_range(10):\n",
    "    print(i)"
   ]
  },
  {
   "cell_type": "code",
   "execution_count": 297,
   "metadata": {},
   "outputs": [
    {
     "name": "stdout",
     "output_type": "stream",
     "text": [
      "3\n",
      "4\n"
     ]
    }
   ],
   "source": [
    "for i in my_range(2, 5):\n",
    "    print(i)"
   ]
  },
  {
   "cell_type": "code",
   "execution_count": 298,
   "metadata": {},
   "outputs": [
    {
     "name": "stdout",
     "output_type": "stream",
     "text": [
      "4\n",
      "6\n",
      "8\n",
      "10\n",
      "12\n",
      "14\n"
     ]
    }
   ],
   "source": [
    "for i in my_range(2, 15, 2):\n",
    "    print(i)"
   ]
  },
  {
   "cell_type": "code",
   "execution_count": 299,
   "metadata": {},
   "outputs": [
    {
     "ename": "TypeError",
     "evalue": "range expected at most 3 arguments, got 4",
     "output_type": "error",
     "traceback": [
      "\u001b[0;31m---------------------------------------------------------------------------\u001b[0m",
      "\u001b[0;31mTypeError\u001b[0m                                 Traceback (most recent call last)",
      "\u001b[0;32m<ipython-input-299-34f1fb81a545>\u001b[0m in \u001b[0;36m<module>\u001b[0;34m\u001b[0m\n\u001b[0;32m----> 1\u001b[0;31m \u001b[0;32mfor\u001b[0m \u001b[0mi\u001b[0m \u001b[0;32min\u001b[0m \u001b[0mmy_range\u001b[0m\u001b[0;34m(\u001b[0m\u001b[0;36m2\u001b[0m\u001b[0;34m,\u001b[0m \u001b[0;36m15\u001b[0m\u001b[0;34m,\u001b[0m \u001b[0;36m2\u001b[0m\u001b[0;34m,\u001b[0m \u001b[0;36m6\u001b[0m\u001b[0;34m)\u001b[0m\u001b[0;34m:\u001b[0m\u001b[0;34m\u001b[0m\u001b[0;34m\u001b[0m\u001b[0m\n\u001b[0m\u001b[1;32m      2\u001b[0m     \u001b[0mprint\u001b[0m\u001b[0;34m(\u001b[0m\u001b[0mi\u001b[0m\u001b[0;34m)\u001b[0m\u001b[0;34m\u001b[0m\u001b[0;34m\u001b[0m\u001b[0m\n",
      "\u001b[0;32m<ipython-input-291-79cf4011ffbe>\u001b[0m in \u001b[0;36mmy_range\u001b[0;34m(*args)\u001b[0m\n\u001b[1;32m     10\u001b[0m         \u001b[0mstart\u001b[0m\u001b[0;34m,\u001b[0m \u001b[0mend\u001b[0m\u001b[0;34m,\u001b[0m \u001b[0mstep\u001b[0m \u001b[0;34m=\u001b[0m \u001b[0margs\u001b[0m\u001b[0;34m[\u001b[0m\u001b[0;36m0\u001b[0m\u001b[0;34m]\u001b[0m\u001b[0;34m,\u001b[0m \u001b[0margs\u001b[0m\u001b[0;34m[\u001b[0m\u001b[0;36m1\u001b[0m\u001b[0;34m]\u001b[0m\u001b[0;34m,\u001b[0m \u001b[0margs\u001b[0m\u001b[0;34m[\u001b[0m\u001b[0;36m2\u001b[0m\u001b[0;34m]\u001b[0m\u001b[0;34m\u001b[0m\u001b[0;34m\u001b[0m\u001b[0m\n\u001b[1;32m     11\u001b[0m     \u001b[0;32melse\u001b[0m\u001b[0;34m:\u001b[0m\u001b[0;34m\u001b[0m\u001b[0;34m\u001b[0m\u001b[0m\n\u001b[0;32m---> 12\u001b[0;31m         \u001b[0;32mraise\u001b[0m \u001b[0mTypeError\u001b[0m\u001b[0;34m(\u001b[0m\u001b[0;34mf\"range expected at most {3} arguments, got {len(args)}\"\u001b[0m\u001b[0;34m)\u001b[0m\u001b[0;34m\u001b[0m\u001b[0;34m\u001b[0m\u001b[0m\n\u001b[0m\u001b[1;32m     13\u001b[0m \u001b[0;34m\u001b[0m\u001b[0m\n\u001b[1;32m     14\u001b[0m     \u001b[0mi\u001b[0m \u001b[0;34m=\u001b[0m \u001b[0mstart\u001b[0m\u001b[0;34m\u001b[0m\u001b[0;34m\u001b[0m\u001b[0m\n",
      "\u001b[0;31mTypeError\u001b[0m: range expected at most 3 arguments, got 4"
     ]
    }
   ],
   "source": [
    "for i in my_range(2, 15, 2, 6):\n",
    "    print(i)"
   ]
  },
  {
   "cell_type": "markdown",
   "metadata": {},
   "source": [
    "### Задача 4 [Primary Key] (0.05 балла)\n",
    "\n",
    "**Условие:**\n",
    "\n",
    "С помощью механизма дескрипторов реализуйте Primary Key - свойства первичного ключа из PostgreSQL."
   ]
  },
  {
   "cell_type": "markdown",
   "metadata": {},
   "source": [
    "### Задача 5 [PositiveSmallIntegerField] (0.03 балла)\n",
    "\n",
    "**Условие:**\n",
    "\n",
    "С помощью механизма дескрипторов реализуйте тип данных PositiveSmallIntegerField - поле, принимающее значения от 0 до 32767."
   ]
  },
  {
   "cell_type": "markdown",
   "metadata": {},
   "source": [
    "### Задача 6 [Timer] (0.02 балла)\n",
    "\n",
    "**Условие:**\n",
    "\n",
    "Реализовать контекстный менеджер, который выводит время, проведенное в нём."
   ]
  }
 ],
 "metadata": {
  "kernelspec": {
   "display_name": "Python 3",
   "language": "python",
   "name": "python3"
  },
  "language_info": {
   "codemirror_mode": {
    "name": "ipython",
    "version": 3
   },
   "file_extension": ".py",
   "mimetype": "text/x-python",
   "name": "python",
   "nbconvert_exporter": "python",
   "pygments_lexer": "ipython3",
   "version": "3.6.8"
  }
 },
 "nbformat": 4,
 "nbformat_minor": 2
}
